{
 "cells": [
  {
   "cell_type": "code",
   "execution_count": 1,
   "id": "c04ce7db-6a97-405a-a253-583a41627abc",
   "metadata": {},
   "outputs": [
    {
     "data": {
      "text/plain": [
       "63156"
      ]
     },
     "execution_count": 1,
     "metadata": {},
     "output_type": "execute_result"
    }
   ],
   "source": [
    "12*5263"
   ]
  },
  {
   "cell_type": "code",
   "execution_count": 6,
   "id": "146827f4-6120-4238-851a-5d993317171d",
   "metadata": {},
   "outputs": [
    {
     "name": "stdout",
     "output_type": "stream",
     "text": [
      "19\n",
      "18\n",
      "17\n",
      "16\n",
      "15\n",
      "14\n",
      "13\n",
      "12\n",
      "11\n",
      "10\n",
      "9\n",
      "8\n",
      "7\n",
      "6\n",
      "5\n",
      "4\n",
      "3\n",
      "2\n",
      "1\n",
      "0\n"
     ]
    }
   ],
   "source": [
    "x=20\n",
    "while x>0:\n",
    "    x=x-1\n",
    "    print (x)"
   ]
  },
  {
   "cell_type": "code",
   "execution_count": 3,
   "id": "21f57a11-8040-4785-b5f6-713e05b7364d",
   "metadata": {},
   "outputs": [
    {
     "data": {
      "text/plain": [
       "'0b101'"
      ]
     },
     "execution_count": 3,
     "metadata": {},
     "output_type": "execute_result"
    }
   ],
   "source": [
    "bin(5)"
   ]
  },
  {
   "cell_type": "code",
   "execution_count": 7,
   "id": "36a9eeb9-0b7f-4ca5-9a17-7dfc9ad52e6d",
   "metadata": {},
   "outputs": [
    {
     "data": {
      "text/plain": [
       "'0b10111'"
      ]
     },
     "execution_count": 7,
     "metadata": {},
     "output_type": "execute_result"
    }
   ],
   "source": [
    "bin(23)"
   ]
  },
  {
   "cell_type": "code",
   "execution_count": 8,
   "id": "aed93174-63d3-4f38-b7e8-95fa53a7068f",
   "metadata": {},
   "outputs": [
    {
     "data": {
      "text/plain": [
       "'0b1000101'"
      ]
     },
     "execution_count": 8,
     "metadata": {},
     "output_type": "execute_result"
    }
   ],
   "source": [
    "bin(3*23)"
   ]
  },
  {
   "cell_type": "code",
   "execution_count": 9,
   "id": "c85d2dc7-c391-492e-9412-acb815e56f09",
   "metadata": {},
   "outputs": [
    {
     "data": {
      "text/plain": [
       "'0b1000101'"
      ]
     },
     "execution_count": 9,
     "metadata": {},
     "output_type": "execute_result"
    }
   ],
   "source": [
    "'0b1000101'\n"
   ]
  },
  {
   "cell_type": "code",
   "execution_count": 11,
   "id": "97384b9c-ab2a-42c3-8c78-a3209bb3cb1a",
   "metadata": {},
   "outputs": [
    {
     "data": {
      "text/plain": [
       "69"
      ]
     },
     "execution_count": 11,
     "metadata": {},
     "output_type": "execute_result"
    }
   ],
   "source": [
    "int(0b1000101)"
   ]
  },
  {
   "cell_type": "code",
   "execution_count": 12,
   "id": "20bf5240-b31f-4035-818e-a5edc91c714d",
   "metadata": {},
   "outputs": [
    {
     "data": {
      "text/plain": [
       "\u001b[0;31mInit signature:\u001b[0m \u001b[0mint\u001b[0m\u001b[0;34m(\u001b[0m\u001b[0mself\u001b[0m\u001b[0;34m,\u001b[0m \u001b[0;34m/\u001b[0m\u001b[0;34m,\u001b[0m \u001b[0;34m*\u001b[0m\u001b[0margs\u001b[0m\u001b[0;34m,\u001b[0m \u001b[0;34m**\u001b[0m\u001b[0mkwargs\u001b[0m\u001b[0;34m)\u001b[0m\u001b[0;34m\u001b[0m\u001b[0;34m\u001b[0m\u001b[0m\n",
       "\u001b[0;31mDocstring:\u001b[0m     \n",
       "int([x]) -> integer\n",
       "int(x, base=10) -> integer\n",
       "\n",
       "Convert a number or string to an integer, or return 0 if no arguments\n",
       "are given.  If x is a number, return x.__int__().  For floating point\n",
       "numbers, this truncates towards zero.\n",
       "\n",
       "If x is not a number or if base is given, then x must be a string,\n",
       "bytes, or bytearray instance representing an integer literal in the\n",
       "given base.  The literal can be preceded by '+' or '-' and be surrounded\n",
       "by whitespace.  The base defaults to 10.  Valid bases are 0 and 2-36.\n",
       "Base 0 means to interpret the base from the string as an integer literal.\n",
       ">>> int('0b100', base=0)\n",
       "4\n",
       "\u001b[0;31mType:\u001b[0m           type\n",
       "\u001b[0;31mSubclasses:\u001b[0m     bool, IntEnum, IntFlag, _NamedIntConstant\n"
      ]
     },
     "metadata": {},
     "output_type": "display_data"
    }
   ],
   "source": [
    "int?\n"
   ]
  },
  {
   "cell_type": "code",
   "execution_count": 13,
   "id": "663d0b8f-7b81-4b3e-846d-8fa9021e03b4",
   "metadata": {},
   "outputs": [
    {
     "ename": "NameError",
     "evalue": "name 'dec' is not defined",
     "output_type": "error",
     "traceback": [
      "\u001b[0;31m---------------------------------------------------------------------------\u001b[0m",
      "\u001b[0;31mNameError\u001b[0m                                 Traceback (most recent call last)",
      "\u001b[0;32m<ipython-input-13-b3cf625da3fd>\u001b[0m in \u001b[0;36m<module>\u001b[0;34m\u001b[0m\n\u001b[0;32m----> 1\u001b[0;31m \u001b[0mdec\u001b[0m\u001b[0;34m(\u001b[0m\u001b[0;36m0b1000101\u001b[0m\u001b[0;34m)\u001b[0m\u001b[0;34m\u001b[0m\u001b[0;34m\u001b[0m\u001b[0m\n\u001b[0m",
      "\u001b[0;31mNameError\u001b[0m: name 'dec' is not defined"
     ]
    }
   ],
   "source": [
    "dec(0b1000101)"
   ]
  },
  {
   "cell_type": "code",
   "execution_count": 14,
   "id": "2aca40f7-ca36-4218-8907-456b15ed4429",
   "metadata": {},
   "outputs": [],
   "source": [
    "from datetime import datetime"
   ]
  },
  {
   "cell_type": "code",
   "execution_count": 15,
   "id": "74cc2be9-399c-44fd-8b59-692f83f81b6d",
   "metadata": {},
   "outputs": [
    {
     "data": {
      "text/plain": [
       "<function datetime.now(tz=None)>"
      ]
     },
     "execution_count": 15,
     "metadata": {},
     "output_type": "execute_result"
    }
   ],
   "source": [
    "datetime.now"
   ]
  },
  {
   "cell_type": "code",
   "execution_count": 16,
   "id": "606088bf-86d6-4825-bdb8-b1688a5851ed",
   "metadata": {},
   "outputs": [
    {
     "data": {
      "text/plain": [
       "datetime.datetime(2021, 8, 4, 9, 22, 59, 8815)"
      ]
     },
     "execution_count": 16,
     "metadata": {},
     "output_type": "execute_result"
    }
   ],
   "source": [
    "datetime.now()"
   ]
  },
  {
   "cell_type": "code",
   "execution_count": 17,
   "id": "7ead613c-d660-44ab-a15f-62e71bfe49be",
   "metadata": {},
   "outputs": [],
   "source": [
    "now=datetime.now()"
   ]
  },
  {
   "cell_type": "code",
   "execution_count": 19,
   "id": "fb5140a7-475e-4693-85d8-c029077c291a",
   "metadata": {},
   "outputs": [
    {
     "data": {
      "text/plain": [
       "2021"
      ]
     },
     "execution_count": 19,
     "metadata": {},
     "output_type": "execute_result"
    }
   ],
   "source": [
    "now.year"
   ]
  },
  {
   "cell_type": "code",
   "execution_count": 20,
   "id": "218c831f-9063-441d-835e-872cc08c9ba2",
   "metadata": {},
   "outputs": [
    {
     "data": {
      "text/plain": [
       "23"
      ]
     },
     "execution_count": 20,
     "metadata": {},
     "output_type": "execute_result"
    }
   ],
   "source": [
    "now.minute"
   ]
  },
  {
   "cell_type": "code",
   "execution_count": 21,
   "id": "9ac041d9-b9c5-4590-ad7c-95b540fd60a8",
   "metadata": {},
   "outputs": [
    {
     "data": {
      "text/plain": [
       "1628069010.841239"
      ]
     },
     "execution_count": 21,
     "metadata": {},
     "output_type": "execute_result"
    }
   ],
   "source": [
    "now.timestamp()"
   ]
  },
  {
   "cell_type": "code",
   "execution_count": 22,
   "id": "552253cb-3b85-4ab7-9036-dc12bbf52015",
   "metadata": {},
   "outputs": [
    {
     "data": {
      "text/plain": [
       "<attribute 'year' of 'datetime.date' objects>"
      ]
     },
     "execution_count": 22,
     "metadata": {},
     "output_type": "execute_result"
    }
   ],
   "source": [
    "datetime.year"
   ]
  },
  {
   "cell_type": "code",
   "execution_count": 23,
   "id": "1c7645d2-c9f3-4c6b-bb4f-74669bb098d4",
   "metadata": {},
   "outputs": [
    {
     "data": {
      "text/plain": [
       "datetime.datetime(2021, 8, 4, 9, 27, 36, 833692)"
      ]
     },
     "execution_count": 23,
     "metadata": {},
     "output_type": "execute_result"
    }
   ],
   "source": [
    "datetime.now()"
   ]
  },
  {
   "cell_type": "code",
   "execution_count": 24,
   "id": "87e87dd5-3026-4373-9129-e528666d5547",
   "metadata": {},
   "outputs": [
    {
     "data": {
      "text/plain": [
       "1628069010.841239"
      ]
     },
     "execution_count": 24,
     "metadata": {},
     "output_type": "execute_result"
    }
   ],
   "source": [
    "now.timestamp()"
   ]
  },
  {
   "cell_type": "code",
   "execution_count": 25,
   "id": "af3be4b6-71c5-416f-a3a8-00c2e4100550",
   "metadata": {},
   "outputs": [
    {
     "data": {
      "text/plain": [
       "'0x10'"
      ]
     },
     "execution_count": 25,
     "metadata": {},
     "output_type": "execute_result"
    }
   ],
   "source": [
    "hex(16)"
   ]
  },
  {
   "cell_type": "code",
   "execution_count": 26,
   "id": "5acaae94-aa90-461d-b132-70b768a28adb",
   "metadata": {},
   "outputs": [
    {
     "data": {
      "text/plain": [
       "255"
      ]
     },
     "execution_count": 26,
     "metadata": {},
     "output_type": "execute_result"
    }
   ],
   "source": [
    "0xff"
   ]
  },
  {
   "cell_type": "code",
   "execution_count": 27,
   "id": "065a0987-cc52-4872-a71d-1751849fe90e",
   "metadata": {},
   "outputs": [
    {
     "data": {
      "text/plain": [
       "256"
      ]
     },
     "execution_count": 27,
     "metadata": {},
     "output_type": "execute_result"
    }
   ],
   "source": [
    "16**2"
   ]
  },
  {
   "cell_type": "code",
   "execution_count": 29,
   "id": "8fbb6dd6-f7cd-4275-baa0-e52bcc1dbfc9",
   "metadata": {},
   "outputs": [
    {
     "ename": "NameError",
     "evalue": "name 'year' is not defined",
     "output_type": "error",
     "traceback": [
      "\u001b[0;31m---------------------------------------------------------------------------\u001b[0m",
      "\u001b[0;31mNameError\u001b[0m                                 Traceback (most recent call last)",
      "\u001b[0;32m<ipython-input-29-30523fae6e5c>\u001b[0m in \u001b[0;36m<module>\u001b[0;34m\u001b[0m\n\u001b[0;32m----> 1\u001b[0;31m \u001b[0mdatetime\u001b[0m\u001b[0;34m.\u001b[0m\u001b[0mnow\u001b[0m\u001b[0;34m(\u001b[0m\u001b[0myear\u001b[0m\u001b[0;34m)\u001b[0m\u001b[0;34m\u001b[0m\u001b[0;34m\u001b[0m\u001b[0m\n\u001b[0m",
      "\u001b[0;31mNameError\u001b[0m: name 'year' is not defined"
     ]
    }
   ],
   "source": [
    "datetime.now()"
   ]
  },
  {
   "cell_type": "code",
   "execution_count": 30,
   "id": "1dc9da80-0bc7-498b-bb97-10923943093a",
   "metadata": {},
   "outputs": [],
   "source": [
    "a=\"b\""
   ]
  },
  {
   "cell_type": "code",
   "execution_count": 31,
   "id": "ae4c3a46-1416-48ae-8425-213f350c3974",
   "metadata": {},
   "outputs": [
    {
     "name": "stdout",
     "output_type": "stream",
     "text": [
      "b\n"
     ]
    }
   ],
   "source": [
    "print(a)"
   ]
  },
  {
   "cell_type": "code",
   "execution_count": 32,
   "id": "d2e3ddba-ded6-4a49-b312-2a78621546c8",
   "metadata": {},
   "outputs": [
    {
     "ename": "NameError",
     "evalue": "name 'b' is not defined",
     "output_type": "error",
     "traceback": [
      "\u001b[0;31m---------------------------------------------------------------------------\u001b[0m",
      "\u001b[0;31mNameError\u001b[0m                                 Traceback (most recent call last)",
      "\u001b[0;32m<ipython-input-32-465d9aa04bf9>\u001b[0m in \u001b[0;36m<module>\u001b[0;34m\u001b[0m\n\u001b[0;32m----> 1\u001b[0;31m \u001b[0mb\u001b[0m\u001b[0;34m=\u001b[0m\u001b[0mb\u001b[0m\u001b[0;34m\u001b[0m\u001b[0;34m\u001b[0m\u001b[0m\n\u001b[0m",
      "\u001b[0;31mNameError\u001b[0m: name 'b' is not defined"
     ]
    }
   ],
   "source": [
    "b=b"
   ]
  },
  {
   "cell_type": "code",
   "execution_count": 37,
   "id": "53d5efb6-e2b0-4b64-8055-4e9f96c8c078",
   "metadata": {},
   "outputs": [
    {
     "data": {
      "text/plain": [
       "1628070674.80361"
      ]
     },
     "execution_count": 37,
     "metadata": {},
     "output_type": "execute_result"
    }
   ],
   "source": [
    "datetime.now().timestamp()"
   ]
  },
  {
   "cell_type": "code",
   "execution_count": 42,
   "id": "b4117afb-490a-46e3-9b7b-e244e74c42ee",
   "metadata": {},
   "outputs": [],
   "source": [
    "then=datetime.now"
   ]
  },
  {
   "cell_type": "code",
   "execution_count": 43,
   "id": "cc454a21-d163-4ac3-ad15-70adda661602",
   "metadata": {},
   "outputs": [
    {
     "ename": "AttributeError",
     "evalue": "'builtin_function_or_method' object has no attribute 'timestamp'",
     "output_type": "error",
     "traceback": [
      "\u001b[0;31m---------------------------------------------------------------------------\u001b[0m",
      "\u001b[0;31mAttributeError\u001b[0m                            Traceback (most recent call last)",
      "\u001b[0;32m<ipython-input-43-7736dc69a5f7>\u001b[0m in \u001b[0;36m<module>\u001b[0;34m\u001b[0m\n\u001b[0;32m----> 1\u001b[0;31m \u001b[0mthen\u001b[0m\u001b[0;34m.\u001b[0m\u001b[0mtimestamp\u001b[0m\u001b[0;34m(\u001b[0m\u001b[0;34m)\u001b[0m\u001b[0;34m\u001b[0m\u001b[0;34m\u001b[0m\u001b[0m\n\u001b[0m",
      "\u001b[0;31mAttributeError\u001b[0m: 'builtin_function_or_method' object has no attribute 'timestamp'"
     ]
    }
   ],
   "source": [
    "then.timestamp()"
   ]
  },
  {
   "cell_type": "code",
   "execution_count": 45,
   "id": "9275e18f-bb7d-47df-a3a1-d234514662a8",
   "metadata": {},
   "outputs": [],
   "source": [
    "del then"
   ]
  },
  {
   "cell_type": "code",
   "execution_count": 49,
   "id": "8d56afb7-cf92-463e-92f7-bf3b8e01d49a",
   "metadata": {},
   "outputs": [
    {
     "data": {
      "text/plain": [
       "'0xff'"
      ]
     },
     "execution_count": 49,
     "metadata": {},
     "output_type": "execute_result"
    }
   ],
   "source": [
    "hex(255)"
   ]
  },
  {
   "cell_type": "code",
   "execution_count": 50,
   "id": "42dc2ba3-2789-4fc5-9bc0-c0e559c2a2cc",
   "metadata": {},
   "outputs": [
    {
     "data": {
      "text/plain": [
       "255"
      ]
     },
     "execution_count": 50,
     "metadata": {},
     "output_type": "execute_result"
    }
   ],
   "source": [
    "0xff"
   ]
  },
  {
   "cell_type": "code",
   "execution_count": 51,
   "id": "aa40ccc7-d1fa-4187-b79f-8844bb93fdfe",
   "metadata": {},
   "outputs": [
    {
     "data": {
      "text/plain": [
       "datetime.datetime(2021, 8, 4, 9, 55, 24, 823918)"
      ]
     },
     "execution_count": 51,
     "metadata": {},
     "output_type": "execute_result"
    }
   ],
   "source": [
    "datetime.now()"
   ]
  },
  {
   "cell_type": "code",
   "execution_count": 52,
   "id": "c2cf49cb-b72e-434f-a9c6-82bc36a5f683",
   "metadata": {},
   "outputs": [
    {
     "ename": "SyntaxError",
     "evalue": "cannot assign to function call (<ipython-input-52-127c1c551c0f>, line 1)",
     "output_type": "error",
     "traceback": [
      "\u001b[0;36m  File \u001b[0;32m\"<ipython-input-52-127c1c551c0f>\"\u001b[0;36m, line \u001b[0;32m1\u001b[0m\n\u001b[0;31m    datetime.now()=then\u001b[0m\n\u001b[0m    ^\u001b[0m\n\u001b[0;31mSyntaxError\u001b[0m\u001b[0;31m:\u001b[0m cannot assign to function call\n"
     ]
    }
   ],
   "source": [
    "datetime.now()=then"
   ]
  },
  {
   "cell_type": "code",
   "execution_count": 53,
   "id": "971bc0ac-84e2-4033-8339-e9588652cb6c",
   "metadata": {},
   "outputs": [
    {
     "ename": "NameError",
     "evalue": "name 'then' is not defined",
     "output_type": "error",
     "traceback": [
      "\u001b[0;31m---------------------------------------------------------------------------\u001b[0m",
      "\u001b[0;31mNameError\u001b[0m                                 Traceback (most recent call last)",
      "\u001b[0;32m<ipython-input-53-4f3bf280b6a3>\u001b[0m in \u001b[0;36m<module>\u001b[0;34m\u001b[0m\n\u001b[0;32m----> 1\u001b[0;31m \u001b[0mdatetime\u001b[0m\u001b[0;34m.\u001b[0m\u001b[0mnow\u001b[0m \u001b[0;34m=\u001b[0m \u001b[0mthen\u001b[0m\u001b[0;34m\u001b[0m\u001b[0;34m\u001b[0m\u001b[0m\n\u001b[0m",
      "\u001b[0;31mNameError\u001b[0m: name 'then' is not defined"
     ]
    }
   ],
   "source": [
    "datetime.now = then"
   ]
  },
  {
   "cell_type": "code",
   "execution_count": 56,
   "id": "d5c05741-b711-4ed6-8a88-4f8829b05ecd",
   "metadata": {},
   "outputs": [],
   "source": [
    "then=datetime.now()"
   ]
  },
  {
   "cell_type": "code",
   "execution_count": 59,
   "id": "c82e576b-3aae-44b6-b6b1-afc7ad1e90e8",
   "metadata": {},
   "outputs": [
    {
     "data": {
      "text/plain": [
       "1628070978.787324"
      ]
     },
     "execution_count": 59,
     "metadata": {},
     "output_type": "execute_result"
    }
   ],
   "source": [
    "then.timestamp()"
   ]
  },
  {
   "cell_type": "code",
   "execution_count": 60,
   "id": "698d7ddd-72ce-4f20-ad80-231f8fe46967",
   "metadata": {},
   "outputs": [
    {
     "data": {
      "text/plain": [
       "8"
      ]
     },
     "execution_count": 60,
     "metadata": {},
     "output_type": "execute_result"
    }
   ],
   "source": [
    "0b1000"
   ]
  },
  {
   "cell_type": "code",
   "execution_count": 61,
   "id": "a05a7710-0591-4ead-9afa-21e894d6ab99",
   "metadata": {},
   "outputs": [
    {
     "data": {
      "text/plain": [
       "15"
      ]
     },
     "execution_count": 61,
     "metadata": {},
     "output_type": "execute_result"
    }
   ],
   "source": [
    "0b1111\n"
   ]
  },
  {
   "cell_type": "code",
   "execution_count": 62,
   "id": "b1ff7a93-f157-41d0-a1c9-d063baed6d73",
   "metadata": {},
   "outputs": [
    {
     "data": {
      "text/plain": [
       "255"
      ]
     },
     "execution_count": 62,
     "metadata": {},
     "output_type": "execute_result"
    }
   ],
   "source": [
    "0b1111_1111"
   ]
  },
  {
   "cell_type": "code",
   "execution_count": 63,
   "id": "3e4eda40-d2bd-4a36-b2af-33404e4e1b74",
   "metadata": {},
   "outputs": [
    {
     "ename": "NameError",
     "evalue": "name 'nibble' is not defined",
     "output_type": "error",
     "traceback": [
      "\u001b[0;31m---------------------------------------------------------------------------\u001b[0m",
      "\u001b[0;31mNameError\u001b[0m                                 Traceback (most recent call last)",
      "\u001b[0;32m<ipython-input-63-c5a5a2411b9d>\u001b[0m in \u001b[0;36m<module>\u001b[0;34m\u001b[0m\n\u001b[0;32m----> 1\u001b[0;31m \u001b[0mnibble\u001b[0m\u001b[0;34m\u001b[0m\u001b[0;34m\u001b[0m\u001b[0m\n\u001b[0m",
      "\u001b[0;31mNameError\u001b[0m: name 'nibble' is not defined"
     ]
    }
   ],
   "source": [
    "nibble"
   ]
  },
  {
   "cell_type": "code",
   "execution_count": 64,
   "id": "918ee97c-127a-46b3-b05a-a8e12cfe5be7",
   "metadata": {},
   "outputs": [
    {
     "data": {
      "text/plain": [
       "1024"
      ]
     },
     "execution_count": 64,
     "metadata": {},
     "output_type": "execute_result"
    }
   ],
   "source": [
    "2**10"
   ]
  },
  {
   "cell_type": "code",
   "execution_count": 65,
   "id": "605df9a0-c3af-496a-894b-6373205afc50",
   "metadata": {},
   "outputs": [
    {
     "data": {
      "text/plain": [
       "1267650600228229401496703205376"
      ]
     },
     "execution_count": 65,
     "metadata": {},
     "output_type": "execute_result"
    }
   ],
   "source": [
    "2**100"
   ]
  },
  {
   "cell_type": "code",
   "execution_count": 66,
   "id": "31d555d4-7ad5-4193-a6be-2b81ab606886",
   "metadata": {},
   "outputs": [
    {
     "data": {
      "text/plain": [
       "1073741824"
      ]
     },
     "execution_count": 66,
     "metadata": {},
     "output_type": "execute_result"
    }
   ],
   "source": [
    "2**30"
   ]
  },
  {
   "cell_type": "code",
   "execution_count": null,
   "id": "3d3b7c6a-4679-42e3-9c72-4a5e6d1d0982",
   "metadata": {},
   "outputs": [],
   "source": []
  }
 ],
 "metadata": {
  "kernelspec": {
   "display_name": "Python 3",
   "language": "python",
   "name": "python3"
  },
  "language_info": {
   "codemirror_mode": {
    "name": "ipython",
    "version": 3
   },
   "file_extension": ".py",
   "mimetype": "text/x-python",
   "name": "python",
   "nbconvert_exporter": "python",
   "pygments_lexer": "ipython3",
   "version": "3.9.2"
  }
 },
 "nbformat": 4,
 "nbformat_minor": 5
}
